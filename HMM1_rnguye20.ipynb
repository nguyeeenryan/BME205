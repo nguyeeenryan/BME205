{
 "cells": [
  {
   "cell_type": "markdown",
   "id": "2c736926",
   "metadata": {},
   "source": [
    "# PROBLEM 19"
   ]
  },
  {
   "cell_type": "markdown",
   "id": "2e647414",
   "metadata": {},
   "source": [
    "Intro:\n",
    "This problem was fairly typical because I only needed to find the cumulative probability according to the transition matrix. Pandas' .loc feature makes this trivial because I don't need to encode the variables into indices or whatever.\n",
    "\n",
    "outro:\n",
    "I saw that Dodi had the same idea as me, just that his didn't have initial and next explicitly stored into variables. Trevor, though, went the cumbersome route and decided to use indices.\n"
   ]
  },
  {
   "cell_type": "code",
   "execution_count": 73,
   "id": "5d820f5e",
   "metadata": {},
   "outputs": [],
   "source": [
    "import numpy as np\n",
    "import pandas as pd\n",
    "\n",
    "# A    ->    A    ->    B\n",
    "# 0.5      0.194       0.806\n",
    "\n",
    "def path_prob(path, t_matrix):\n",
    "    prob = 0.5\n",
    "    \n",
    "    for x in range(len(path)-1):\n",
    "        initial = path[x]\n",
    "        next = path[x+1]\n",
    "        \n",
    "        prob *= t_matrix.loc[initial, next]\n",
    "    \n",
    "    return prob\n",
    "    "
   ]
  },
  {
   "cell_type": "code",
   "execution_count": 75,
   "id": "952ff734",
   "metadata": {},
   "outputs": [
    {
     "name": "stdout",
     "output_type": "stream",
     "text": [
      "4.744060601682143e-18\n"
     ]
    }
   ],
   "source": [
    "h_path = \"BAAAAABBBBABABBBAABBBBABBABAAABBBBABBBAABBBABBBBBB\"\n",
    "\n",
    "states = ['A', 'B']\n",
    "\n",
    "matrix = [[0.806, 0.194],\n",
    "            [0.48, 0.52]]\n",
    "\n",
    "\n",
    "t_matrix = pd.DataFrame(matrix, index=states, columns=states)\n",
    "\n",
    "\n",
    "cheese = path_prob(h_path, t_matrix)\n",
    "print(cheese)\n"
   ]
  },
  {
   "cell_type": "code",
   "execution_count": 68,
   "id": "84b3efc0",
   "metadata": {},
   "outputs": [
    {
     "name": "stdout",
     "output_type": "stream",
     "text": [
      "0.137\n"
     ]
    }
   ],
   "source": [
    "print(t_matrix.loc['A','B'])"
   ]
  },
  {
   "cell_type": "markdown",
   "id": "76880395",
   "metadata": {},
   "source": [
    "# PROBLEM 20"
   ]
  },
  {
   "cell_type": "markdown",
   "id": "11304cd2",
   "metadata": {},
   "source": [
    "Intro:\n",
    "This problem was also simple. It's just problem 19 but using an emission probability matrix.\n",
    "\n",
    "outro:\n",
    "Again, same as the last problem. Dodi arrived at a similar problem and Trevor accomplished the same thing algorithmically but with indices."
   ]
  },
  {
   "cell_type": "code",
   "execution_count": 258,
   "id": "79b05edd",
   "metadata": {},
   "outputs": [],
   "source": [
    "import numpy as np\n",
    "import pandas as pd\n",
    "\n",
    "def emi_prob(path, emi_path, emi_matrix):\n",
    "    prob = 1\n",
    "    \n",
    "    for x in range(len(path)):\n",
    "        state = path[x]\n",
    "        emitted = emi_path[x]\n",
    "\n",
    "        prob *= emi_matrix.loc[state, emitted]\n",
    "    \n",
    "    return prob"
   ]
  },
  {
   "cell_type": "code",
   "execution_count": 260,
   "id": "cd265b5e",
   "metadata": {},
   "outputs": [
    {
     "name": "stdout",
     "output_type": "stream",
     "text": [
      "3.4693080273462047e-25\n"
     ]
    }
   ],
   "source": [
    "h_path2 = 'AAABBABBBBBAABBABBAABBBBAAABBBABBBBBABAAABAABBAAAB'\n",
    "emi_path = 'yyzzxyxzzzxyzyxzyyxxxzzyxxyzyzzxxxyzzzxxxxzzyzzxzz'\n",
    "\n",
    "\n",
    "matrix2 = [\n",
    "    [0.384, 0.344, 0.273],\n",
    "    [0.185, 0.268, 0.547]\n",
    "]\n",
    "\n",
    "states = ['A','B']\n",
    "emi_states = ['x', 'y', 'z']\n",
    "\n",
    "emi_matrix = pd.DataFrame(matrix2, index=states, columns=emi_states)\n",
    "\n",
    "\n",
    "print(emi_prob(h_path2, emi_path, emi_matrix))"
   ]
  },
  {
   "cell_type": "markdown",
   "id": "96dcf2f9",
   "metadata": {},
   "source": [
    "# PROBLEM 21"
   ]
  },
  {
   "cell_type": "markdown",
   "id": "0b4da40a",
   "metadata": {},
   "source": [
    "Intro:\n",
    "This problem was REALLY difficult to wrap my head around, but as soon as I really looked at the formulas it started becoming clearer. Filling out the nodes is pretty much just using the formulas shown in the module videos. The difficult part, however, came with figuring out how to backtrack through. I just settled on creating another backtrack dataframe and then logging whatever preceding node-state had the highest score. At the end I'd just use a for-loop to just walk backwards through the backtracking matrix for the corresponding states."
   ]
  },
  {
   "cell_type": "code",
   "execution_count": 357,
   "id": "5f18776c",
   "metadata": {},
   "outputs": [],
   "source": [
    "import numpy as np\n",
    "import pandas as pd\n",
    "\n",
    "def viterbi_path(emi_path, states, t_matrix, emi_matrix):\n",
    "    #hold scores and states for backtracking\n",
    "    vit_table = pd.DataFrame(    np.full((len(states),len(emi_path)), 0)   , index=states)\n",
    "    back_track = pd.DataFrame(   np.full((len(states),len(emi_path)), 0)   , index=states)\n",
    "    \n",
    "    for state in states: #initialize start scores\n",
    "        vit_table.at[state,0] = (1/len(states)) * emi_matrix.loc[state, emi_path[0]]\n",
    "    \n",
    "    for time in range(1, len(emi_path)): #nested loop for calculating scores of every node\n",
    "        for state in states:\n",
    "            # prev_scores = [score_a/b/c_i-1 * weight]\n",
    "            prev_scores = [vit_table.loc[prev_state][time-1] * t_matrix.loc[prev_state, state] * emi_matrix.loc[state, emi_path[time]] for prev_state in states]\n",
    "            # fill in node with max of preceding scores\n",
    "            vit_table.at[state,time] = max(prev_scores)\n",
    "            # keep track of the previous node-state that gave the highest score\n",
    "            back_track.at[state,time] = max(states, key=lambda prev_state: vit_table.loc[prev_state,time-1] * t_matrix.loc[prev_state, state] * emi_matrix.loc[state, emi_path[time]])\n",
    "    \n",
    "    # Append to a list, backtracking from the start node, then reversing the list for the right order\n",
    "    \n",
    "    #Find the max value of the last column and return its corresponding state\n",
    "    vit_path = [max(states, key=lambda state: vit_table.loc[state, len(emi_path)-1])]\n",
    "    for time in range(len(emi_path)-1, 0, -1):\n",
    "        # uses the last list element to find the previous node from backtrack\n",
    "        vit_path.append(back_track.loc[vit_path[-1],time])\n",
    "    print(back_track)\n",
    "    vit_path.reverse()\n",
    "    \n",
    "    return vit_path\n",
    "\n"
   ]
  },
  {
   "cell_type": "code",
   "execution_count": 358,
   "id": "e9944b81",
   "metadata": {},
   "outputs": [
    {
     "name": "stdout",
     "output_type": "stream",
     "text": [
      "   0  1  2  3  4  5  6  7  8  9   ... 90 91 92 93 94 95 96 97 98 99\n",
      "A   0  D  A  D  A  B  B  D  B  C  ...  D  B  B  B  D  B  B  B  D  A\n",
      "B   0  A  C  B  C  B  B  B  B  C  ...  B  B  B  B  B  B  B  B  B  C\n",
      "C   0  D  C  D  C  B  B  D  B  C  ...  D  B  B  B  D  B  B  B  D  C\n",
      "D   0  D  C  D  C  B  B  D  B  C  ...  D  B  B  B  D  B  B  B  D  C\n",
      "\n",
      "[4 rows x 100 columns]\n",
      "DCDCBBBBCBBCBCDCDDCDDCBBBBCCCDCCCDDCCBCBBBBBCBBBBDCBCBBBBBBDCCBDDDBBBCCCBBDCDDCDCBDDDCDDBBBBBBBBBDCB\n"
     ]
    }
   ],
   "source": [
    "with open(\"rosalind_ba10c2.txt\") as f:\n",
    "    lines = [line.strip() for line in f]\n",
    "    \n",
    "    \n",
    "observed_path = lines[0].strip()\n",
    "emi_states = lines[2].strip().split()\n",
    "states = lines[4].strip().split()\n",
    "\n",
    "t_matrix = []\n",
    "emi_matrix = []\n",
    "for x in range(7, 7+len(states)):\n",
    "    t_matrix.append(lines[x].strip().split()[1:])\n",
    "\n",
    "for x in range(7+len(states)+2, 7+len(states)+2+4):\n",
    "    emi_matrix.append(lines[x].strip().split()[1:])\n",
    "\n",
    "t_matrix_final = pd.DataFrame(t_matrix, index=states, columns=states).astype(float)\n",
    "emi_matrix_final = pd.DataFrame(emi_matrix, index=states, columns=emi_states).astype(float)\n",
    "\n",
    "print(''.join(viterbi_path(observed_path, states, t_matrix_final, emi_matrix_final)))"
   ]
  },
  {
   "cell_type": "code",
   "execution_count": 356,
   "id": "d1651116",
   "metadata": {},
   "outputs": [
    {
     "name": "stdout",
     "output_type": "stream",
     "text": [
      "8\n",
      "7\n",
      "6\n",
      "5\n",
      "4\n",
      "3\n",
      "2\n",
      "1\n"
     ]
    }
   ],
   "source": [
    "for time in range(9-1, 0, -1):\n",
    "    print(time)"
   ]
  },
  {
   "cell_type": "markdown",
   "id": "07f0bd72",
   "metadata": {},
   "source": [
    "# PROBLEM 22"
   ]
  },
  {
   "cell_type": "markdown",
   "id": "51033269",
   "metadata": {},
   "source": [
    "Intro:\n",
    "After solving 21, problem 22 is just tweaking the algorithms to follow the forward variant. Thankfully my formatting allowed me to easily swap max() with sum(). What I'm struggling with, though, is getting the values to match accurately with the expected values.\n",
    "\n",
    "Outro:\n",
    "I still can't figure out how to get it to match rosalind properly, but as far as finding the values I think it's close enough."
   ]
  },
  {
   "cell_type": "code",
   "execution_count": 347,
   "id": "71b3924d",
   "metadata": {},
   "outputs": [],
   "source": [
    "import numpy as np\n",
    "import pandas as pd\n",
    "\n",
    "def viterbi_forward(emi_path, states, t_matrix, emi_matrix):\n",
    "    #hold scores and states for backtracking\n",
    "    vit_table = pd.DataFrame(    np.full((len(states),len(emi_path)), 0)   , index=states)\n",
    "    \n",
    "    for state in states: #initialize start scores\n",
    "        vit_table.at[state,0] = (1/len(states)) * emi_matrix.loc[state, emi_path[0]]\n",
    "    \n",
    "    for time in range(1, len(emi_path)): #nested loop for calculating scores of every node\n",
    "        for state in states:\n",
    "            # prev_scores = [score_a/b/c_i-1 * weight]\n",
    "            prev_scores = [vit_table.loc[prev_state][time-1] * t_matrix.loc[prev_state, state] * emi_matrix.loc[state, emi_path[time]] for prev_state in states]\n",
    "            # fill in node with sum of preceding scores\n",
    "            vit_table.at[state,time] = sum(prev_scores)\n",
    "    vit_prob = vit_table.sum(axis=0,numeric_only=True)[len(emi_path)-1]\n",
    "    return vit_prob"
   ]
  },
  {
   "cell_type": "code",
   "execution_count": 348,
   "id": "fc19dedc",
   "metadata": {},
   "outputs": [
    {
     "name": "stdout",
     "output_type": "stream",
     "text": [
      "4.0821070838067285e-55\n"
     ]
    }
   ],
   "source": [
    "obs_path = 'zxxxzyyxyzyxyyxzzxzyyxzzxyxxzyzzyzyzzyxxyzxxzyxxzxxyzzzzzzzxyzyxzzyxzzyzxyyyyyxzzzyzxxyyyzxyyxyzyyxz'\n",
    "states22 = ['A', 'B']\n",
    "t_matrix22 = pd.DataFrame([[0.994, 0.006],[0.563, 0.437]], index=['A', 'B'], columns=['A', 'B'])\n",
    "emi_matrix22 = pd.DataFrame([[0.55, 0.276, 0.174],[0.311, 0.368, 0.321]], index=['A', 'B'], columns=['x','y','z'])\n",
    "\n",
    "print(viterbi_forward(obs_path, states22, t_matrix22, emi_matrix22))"
   ]
  },
  {
   "cell_type": "code",
   "execution_count": 353,
   "id": "a8fd01ad",
   "metadata": {},
   "outputs": [
    {
     "name": "stdout",
     "output_type": "stream",
     "text": [
      "\n",
      "4.213433658842122e-53\n"
     ]
    }
   ],
   "source": [
    "with open(\"rosalind_ba10d3.txt\") as f:\n",
    "    lines = [line.strip() for line in f]\n",
    "\n",
    "    \n",
    "observed_path = lines[0].strip()\n",
    "emi_states = lines[2].strip().split()\n",
    "states = lines[4].strip().split()\n",
    "\n",
    "t_matrix = []\n",
    "emi_matrix = []\n",
    "for x in range(7, 7+len(states)):\n",
    "    t_matrix.append(lines[x].strip().split()[1:])\n",
    "\n",
    "for x in range(7+len(states)+2, 7+len(states)+2+len(states)):\n",
    "    emi_matrix.append(lines[x].strip().split()[1:])\n",
    "\n",
    "t_matrix22 = pd.DataFrame(t_matrix, index=states, columns=states).astype(float)\n",
    "emi_matrix22 = pd.DataFrame(emi_matrix, index=states, columns=emi_states).astype(float)\n",
    "\n",
    "print()\n",
    "\n",
    "print(viterbi_forward(obs_path, states22, t_matrix22, emi_matrix22))"
   ]
  },
  {
   "cell_type": "code",
   "execution_count": null,
   "id": "df0afaaf",
   "metadata": {},
   "outputs": [],
   "source": []
  }
 ],
 "metadata": {
  "kernelspec": {
   "display_name": "Python 3 (ipykernel)",
   "language": "python",
   "name": "python3"
  },
  "language_info": {
   "codemirror_mode": {
    "name": "ipython",
    "version": 3
   },
   "file_extension": ".py",
   "mimetype": "text/x-python",
   "name": "python",
   "nbconvert_exporter": "python",
   "pygments_lexer": "ipython3",
   "version": "3.11.5"
  }
 },
 "nbformat": 4,
 "nbformat_minor": 5
}
