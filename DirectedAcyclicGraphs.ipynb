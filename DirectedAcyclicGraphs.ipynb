{
 "cells": [
  {
   "cell_type": "markdown",
   "id": "thousand-lafayette",
   "metadata": {},
   "source": [
    "# DAGs - a generalization of the alignment problem\n",
    "##Specification\n",
    "- Name: problem15 in Rosalind\n",
    "- Name your notebook as: DAG.ipynb\n",
    "- options: none\n",
    "- input: filename passed as first parameter to main\n",
    "- output: a text file. ( using print ( .... file=someFileObject) is a handy way to do this after you have opened someFileObject as a text file). I find it handy to name these files by creating a string by concatenating the string named infile with \".out\" ... rosalind5.txt.out ( for example).\n",
    "-Rosalind Problem Name: Find the longest path in a DAG\n",
    "\n",
    "As always, include a Inspection Intro Markdown that describes your specific algorithm at the beginning of the notebook, and another Inspection Results markdown at the end of the notebook that documents: your inspection team, the findings of the team, and your resolution of those findings.\n",
    "\n",
    "Please submit your notebook, an example of one of the Rosalind files that you ran and passed, and the output that your program generated as a text file.\n",
    "\n",
    "## Description\n",
    "As a prelude to an upcoming assignment in profile alignments, please consider the related problem of generalized weighted-DAGs (directed acyclic graph). Rosalind has a very nice example that includes weighted edges connecting nodes. As applied to a simple pairwise alignment, nodes represent a specific assignment of a character pairing between a character in one of the sequences to either an initial insert/delete (indel), an extension of that indel, or a match/mismatch. \n",
    "\n",
    "Unlike classical pairwise alignment, the specific order to consider the resolution of scores in the graph is established using the topology of the graph ( topological ordering). This ordering will avoid recursion in developing the final score. This is another way of using Dynamic programming in a more generalized way. ( pp247-52 in Compeau and the detour on pp287-88).\n",
    "\n",
    "## Hints\n",
    "1) scoring of nodes that have no inputs (or possibly incomplete inputs) must be done carefully. Choose these wisely. In a pairwise alignment, these nodes would be considered boundary nodes.\n",
    "\n",
    "2) The problem is quite clear on the starting/ending node to consider. Make sure to evaluate these properly.\n",
    "\n",
    "3) each node can have many inputs or none. In the generalized DAG, there is no limit on the number of inputs. Consider a data structure here that allows you to represent the incoming edge along with a score that is computed by adding the weight of that incoming edge to the score of its preceding node.\n",
    "\n",
    "4) As you write these classes, consider that these may be usable in the future.\n",
    "\n",
    "5) sets and dictionaries require keys that are immutable. Those keys can be integers, or floats, or tuples. Think carefully about using tuples as containers-that-can-be-keys.\n",
    "\n",
    "6) python has a container called a namedtuple. These are available in the container module. They are quite handy.\n",
    "\n",
    "7) python has two functions called any() and all(); any() evaluates to true if any of its iterable arguments are True; all() evaluates to True if all of its iterable arguments are true. None, for example, evaluates to False. \n",
    "\n",
    "8) consider implementing a helper method called _argMax_. If you happen to have a dictionary of values, it returns the key whose paired-value is maximal among all values in the dictionary.\n",
    "\n",
    "9) Carefully consider the implementations that are provided in the text. Specifically, the topology ordering pseudocode removes edges from the constructed DAG. This is a bit annoying, considering that we need that DAG for scoring and backtracking. What is the purpose that removing an edge is attempting to perform? Look over the Wikipedia article on \"Dataflow\" for an idea as to how you might avoid destroying your graph.\n",
    "\n",
    "10) My implementation has specific objects that are nodes, edges, and the DAG itself. It is implemented in about 120 lines including whitespace.\n",
    "\n",
    "11) Rosalind will provide test cases where the proscribed beginning and ending node have inputs/outputs that may induce cycles. In these problems, remember that we are considering the DAG that is described between (inclusively) the start and end node so the inputs to start don't matter; the outputs from end don't matter either.\n",
    "\n",
    " \n",
    "\n",
    "Here is a template to use."
   ]
  },
  {
   "cell_type": "markdown",
   "id": "portuguese-management",
   "metadata": {},
   "source": [
    "## Inspection Intro"
   ]
  },
  {
   "cell_type": "code",
   "execution_count": 1,
   "id": "photographic-vietnamese",
   "metadata": {
    "scrolled": true
   },
   "outputs": [
    {
     "ename": "FileNotFoundError",
     "evalue": "[Errno 2] No such file or directory: 'rosalind_ba5d.txt'",
     "output_type": "error",
     "traceback": [
      "\u001b[1;31m---------------------------------------------------------------------------\u001b[0m",
      "\u001b[1;31mFileNotFoundError\u001b[0m                         Traceback (most recent call last)",
      "Cell \u001b[1;32mIn[1], line 51\u001b[0m\n\u001b[0;32m     44\u001b[0m             \u001b[38;5;28;01mpass\u001b[39;00m\n\u001b[0;32m     50\u001b[0m \u001b[38;5;28;01mif\u001b[39;00m \u001b[38;5;18m__name__\u001b[39m \u001b[38;5;241m==\u001b[39m \u001b[38;5;124m\"\u001b[39m\u001b[38;5;124m__main__\u001b[39m\u001b[38;5;124m\"\u001b[39m:\n\u001b[1;32m---> 51\u001b[0m     main(inFile \u001b[38;5;241m=\u001b[39m \u001b[38;5;124m'\u001b[39m\u001b[38;5;124mrosalind_ba5d.txt\u001b[39m\u001b[38;5;124m'\u001b[39m)\n",
      "Cell \u001b[1;32mIn[1], line 38\u001b[0m, in \u001b[0;36mmain\u001b[1;34m(inFile)\u001b[0m\n\u001b[0;32m     34\u001b[0m \u001b[38;5;28;01mdef\u001b[39;00m \u001b[38;5;21mmain\u001b[39m(inFile \u001b[38;5;241m=\u001b[39m \u001b[38;5;28;01mNone\u001b[39;00m):\n\u001b[0;32m     35\u001b[0m \u001b[38;5;250m    \u001b[39m\u001b[38;5;124;03m'''\u001b[39;00m\n\u001b[0;32m     36\u001b[0m \u001b[38;5;124;03m    Do the main thing\u001b[39;00m\n\u001b[0;32m     37\u001b[0m \u001b[38;5;124;03m    '''\u001b[39;00m\n\u001b[1;32m---> 38\u001b[0m     \u001b[38;5;28;01mwith\u001b[39;00m \u001b[38;5;28mopen\u001b[39m(inFile) \u001b[38;5;28;01mas\u001b[39;00m fh:\n\u001b[0;32m     39\u001b[0m         begin \u001b[38;5;241m=\u001b[39m \u001b[38;5;28mint\u001b[39m(fh\u001b[38;5;241m.\u001b[39mreadline()\u001b[38;5;241m.\u001b[39mrstrip())\n\u001b[0;32m     40\u001b[0m         end \u001b[38;5;241m=\u001b[39m \u001b[38;5;28mint\u001b[39m(fh\u001b[38;5;241m.\u001b[39mreadline()\u001b[38;5;241m.\u001b[39mrstrip())\n",
      "File \u001b[1;32m~\\anaconda3\\Lib\\site-packages\\IPython\\core\\interactiveshell.py:286\u001b[0m, in \u001b[0;36m_modified_open\u001b[1;34m(file, *args, **kwargs)\u001b[0m\n\u001b[0;32m    279\u001b[0m \u001b[38;5;28;01mif\u001b[39;00m file \u001b[38;5;129;01min\u001b[39;00m {\u001b[38;5;241m0\u001b[39m, \u001b[38;5;241m1\u001b[39m, \u001b[38;5;241m2\u001b[39m}:\n\u001b[0;32m    280\u001b[0m     \u001b[38;5;28;01mraise\u001b[39;00m \u001b[38;5;167;01mValueError\u001b[39;00m(\n\u001b[0;32m    281\u001b[0m         \u001b[38;5;124mf\u001b[39m\u001b[38;5;124m\"\u001b[39m\u001b[38;5;124mIPython won\u001b[39m\u001b[38;5;124m'\u001b[39m\u001b[38;5;124mt let you open fd=\u001b[39m\u001b[38;5;132;01m{\u001b[39;00mfile\u001b[38;5;132;01m}\u001b[39;00m\u001b[38;5;124m by default \u001b[39m\u001b[38;5;124m\"\u001b[39m\n\u001b[0;32m    282\u001b[0m         \u001b[38;5;124m\"\u001b[39m\u001b[38;5;124mas it is likely to crash IPython. If you know what you are doing, \u001b[39m\u001b[38;5;124m\"\u001b[39m\n\u001b[0;32m    283\u001b[0m         \u001b[38;5;124m\"\u001b[39m\u001b[38;5;124myou can use builtins\u001b[39m\u001b[38;5;124m'\u001b[39m\u001b[38;5;124m open.\u001b[39m\u001b[38;5;124m\"\u001b[39m\n\u001b[0;32m    284\u001b[0m     )\n\u001b[1;32m--> 286\u001b[0m \u001b[38;5;28;01mreturn\u001b[39;00m io_open(file, \u001b[38;5;241m*\u001b[39margs, \u001b[38;5;241m*\u001b[39m\u001b[38;5;241m*\u001b[39mkwargs)\n",
      "\u001b[1;31mFileNotFoundError\u001b[0m: [Errno 2] No such file or directory: 'rosalind_ba5d.txt'"
     ]
    }
   ],
   "source": [
    "class DAG:\n",
    "    def __init__(self, begin, end):\n",
    "        pass\n",
    "    \n",
    "    def generate_kmer_comp(self, length, sequence):\n",
    "        kmer_list = []\n",
    "        if length >= 2:\n",
    "            for x in range(len(sequence)):\n",
    "                if x+length <= len(sequence):\n",
    "                    kmer_list.append(sequence[x:x+length])\n",
    "        else:\n",
    "            raise ValueError(\"Invalid length received\")\n",
    "        return kmer_list\n",
    "    \n",
    "    def reconstruct_string(self, kmer_list):\n",
    "        string = kmer_list[0]\n",
    "        for kmer in kmer_list[1:]:\n",
    "            string += kmer[len(kmer)-1:]\n",
    "            pass\n",
    "        return string\n",
    "    \n",
    "    def overlap(self, list):\n",
    "        adjacency_list = {x:0 for x in list}\n",
    "        for key, value in adjacency_list.items():\n",
    "            for y in list:\n",
    "                if key[1:] == y[:-1]:\n",
    "                    adjacency_list[key] = y\n",
    "\n",
    "        return adjacency_list\n",
    "        \n",
    "    \n",
    "\n",
    "\n",
    "def main(inFile = None):\n",
    "    '''\n",
    "    Do the main thing\n",
    "    '''\n",
    "    with open(inFile) as fh:\n",
    "        begin = int(fh.readline().rstrip())\n",
    "        end = int(fh.readline().rstrip())\n",
    "        thisDAG = DAG(begin, end)\n",
    "        \n",
    "        for line in fh.readline():\n",
    "            pass\n",
    "        \n",
    "    \n",
    "    \n",
    "    \n",
    "    \n",
    "if __name__ == \"__main__\":\n",
    "    main(inFile = 'rosalind_ba5d.txt') "
   ]
  },
  {
   "cell_type": "code",
   "execution_count": 77,
   "id": "ba33edf5",
   "metadata": {},
   "outputs": [],
   "source": [
    "def generate_kmer_comp(length, sequence):\n",
    "        kmer_list = []\n",
    "        if length >= 2:\n",
    "            for x in range(len(sequence)):\n",
    "                if x+length <= len(sequence):\n",
    "                    kmer_list.append(sequence[x:x+length])\n",
    "        else:\n",
    "            raise ValueError(\"Invalid length received\")\n",
    "        return kmer_list\n",
    "    \n",
    "def reconstruct_string(kmer_list):\n",
    "    string = kmer_list[0]\n",
    "    for kmer in kmer_list[1:]:\n",
    "        string += kmer[len(kmer)-1:]\n",
    "        pass\n",
    "    return string\n",
    "\n",
    "def overlap(list):\n",
    "    adjacency_list = {x:set() for x in list}\n",
    "    for key, value in adjacency_list.items():\n",
    "        for y in list:\n",
    "            if key[1:] == y[:-1]:\n",
    "                adjacency_list[key].add(y)\n",
    "\n",
    "    return adjacency_list\n",
    "\n",
    "def generate_bruijn(k, sample_seq):\n",
    "    nodes = generate_kmer_comp(k-1, sample_seq)\n",
    "    final_dict = overlap(nodes)\n",
    "    \n",
    "    return final_dict"
   ]
  },
  {
   "cell_type": "code",
   "execution_count": 102,
   "id": "d572bb86",
   "metadata": {},
   "outputs": [
    {
     "name": "stdout",
     "output_type": "stream",
     "text": [
      "AAG -> AGA\n",
      "AGA -> GAT\n",
      "GAT -> ATT\n",
      "ATT -> TTC\n",
      "TTC -> TCT\n",
      "TCT -> CTA,CTC\n",
      "CTC -> TCT\n",
      "CTA -> TAC\n"
     ]
    }
   ],
   "source": [
    "sample_kmers = [\"ACCGA\",\n",
    "\"CCGAA\",\n",
    "\"CGAAG\",\n",
    "\"GAAGC\",\n",
    "\"AAGCT\"]\n",
    "\n",
    "sample_output = \"ACCGAAGCT\"\n",
    "\n",
    "#for key, value in overlapGraph(sample_kmers).items():\n",
    " #   if value != 0:\n",
    "  #      print(\"{} -> {}\".format(key, value))\n",
    "       \n",
    "\n",
    "sample_seq = \"AAGATTCTCTAC\"\n",
    "k = 4\n",
    "\n",
    "\n",
    "lex = generate_bruijn(k, sample_seq)\n",
    "\n",
    "for x, y in lex.items():\n",
    "    if y:\n",
    "        print(\"{} -> {}\".format(x, \",\".join(str(e) for e in y)))"
   ]
  },
  {
   "cell_type": "markdown",
   "id": "paperback-warning",
   "metadata": {},
   "source": [
    "## Inspection Results"
   ]
  },
  {
   "cell_type": "code",
   "execution_count": null,
   "id": "amazing-pointer",
   "metadata": {},
   "outputs": [],
   "source": []
  }
 ],
 "metadata": {
  "kernelspec": {
   "display_name": "Python 3 (ipykernel)",
   "language": "python",
   "name": "python3"
  },
  "language_info": {
   "codemirror_mode": {
    "name": "ipython",
    "version": 3
   },
   "file_extension": ".py",
   "mimetype": "text/x-python",
   "name": "python",
   "nbconvert_exporter": "python",
   "pygments_lexer": "ipython3",
   "version": "3.11.5"
  }
 },
 "nbformat": 4,
 "nbformat_minor": 5
}
