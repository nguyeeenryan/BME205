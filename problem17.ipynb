{
 "cells": [
  {
   "cell_type": "markdown",
   "id": "1df015e7",
   "metadata": {},
   "source": [
    "# PROBLEM 17"
   ]
  },
  {
   "cell_type": "markdown",
   "id": "1e7a5501",
   "metadata": {},
   "source": [
    "Inspection Intro:\n",
    "    Most of the problem was straight forward except for one part which took up quite a bit of time. What I especially struggled with was finding a way to split the peptide into linear fragments. Initially my working solution was to use itertools and simply use the combinations() function in order to get my fragments, but I found after consulting the textbook that this doesn't work because combinations() produces combos of every possible element of the provided string, which waaaay exceeded the 12 possible combos from the provided example LEQN/NQEL.\n",
    "    What I sought to accomplish was finding a way to \"cycle\" over the given string. At first I wanted to Macgyver together a way to check the indices then subtract those values and add another string on top- something along those lines- but a simpler solution I ended up thinking of was to just simulate the cycling itself by doubling up the string, adding it together with itself. In the end the final solution was iterating over it in a nested for loop, with the first loop iterating over the entire length of the sequence (x) and the second loop iterating over everything after the first amino (y). The resulting fragment would then be the indices of x and x+y, so it wouldnt ever be iterating over two equal indices and also wouldn't ever go past a combo of 3 amino acids. This method also caps the indices so it wouldn't ever cycle across the peptide completely, meaning no duplicates. I don't want to think anymore.\n",
    "    \n",
    "    LEQNLEQN\n",
    "    \n",
    "    x:0, y:1     x:0, y:3\n",
    "    LEQN[0:1]... LEQN[0:3]\n",
    "    (L)         (LEQ)\n",
    "    \n",
    "    x:1, y:1     x:1, y:3\n",
    "    LEQN[1:2]... LEQN[1:4]\n",
    "    (E)         (EQN)   \n",
    "    \n",
    "    x:2, y:1     x:2, y:3\n",
    "    LEQN[2:3]... LEQN[2:5] LE *QNL* EQN\n",
    "    (Q)          (QNL)\n",
    "    \n",
    "    x:3, y:1     x:3, y:3\n",
    "    LEQN[3:4]... LEQN[3:6]\n",
    "    (N)          (NLE)\n",
    "    "
   ]
  },
  {
   "cell_type": "code",
   "execution_count": 24,
   "id": "c902a431",
   "metadata": {},
   "outputs": [],
   "source": [
    "amino_to_mass = {\n",
    "    \"G\":57, \"A\":71, \"S\":87, \"P\":97, \"V\":99,\n",
    "    \"T\":101, \"C\":103, \"I\":113, \"L\":113, \"N\":114, \n",
    "    \"D\":115, \"K\":128, \"Q\":128, \"E\":129, \"M\":131,\n",
    "    \"H\":137, \"F\":147, \"R\":156, \"Y\":163, \"W\":186\n",
    "}\n",
    "\n",
    "def peptide_mass_calc(peptide):\n",
    "    '''returns mass of peptide by giving the sum of the masses of its amino acids'''\n",
    "    mass = 0\n",
    "    for amino in peptide:\n",
    "        if amino in amino_to_mass.keys():\n",
    "            mass += amino_to_mass[amino]\n",
    "        \n",
    "    return mass\n",
    "\n",
    "\n",
    "def cyclic_fragment(string):\n",
    "    '''splits a provided string into fragments in a cyclic fashion,\n",
    "        that is at every possible connecting bond'''   \n",
    "    fragments = []\n",
    "    \n",
    "    str_len = len(string)\n",
    "    string_cycle = string + string # LEQN + LEQN = LEQNLEQN lets me cycle over when im iterating\n",
    "    \n",
    "    for x in range(str_len):\n",
    "        for y in range(1,str_len):    \n",
    "            fragments.append(string_cycle[x:x+y])\n",
    "    \n",
    "    return fragments\n",
    "\n",
    "\n",
    "def cyclospectrum(peptide):\n",
    "    '''returns the masses of all possible subpeptides in a cyclic peptide'''\n",
    "    spectrum = [0, peptide_mass_calc(peptide)]\n",
    "    \n",
    "    pep_len = len(peptide)\n",
    "    \n",
    "    combos = cyclic_fragment(peptide)\n",
    "                    \n",
    "    for x in combos:\n",
    "        spectrum.append(peptide_mass_calc(x))\n",
    "\n",
    "        \n",
    "    return sorted(spectrum, key=lambda x: x)\n",
    "        \n",
    "        \n",
    "    "
   ]
  },
  {
   "cell_type": "code",
   "execution_count": 25,
   "id": "9481beec",
   "metadata": {},
   "outputs": [
    {
     "name": "stdout",
     "output_type": "stream",
     "text": [
      "0 71 97 99 101 103 114 115 115 129 147 156 163 170 186 200 200 212 213 216 257 270 276 278 278 284 289 299 315 333 347 369 371 372 375 379 386 393 413 436 440 446 462 470 478 486 490 494 501 533 533 535 541 560 565 569 585 591 593 632 636 648 649 650 656 662 664 670 694 716 733 735 746 747 748 764 777 779 785 811 817 819 832 848 849 850 861 863 880 902 926 932 934 940 946 947 948 960 964 1003 1005 1011 1027 1031 1036 1055 1061 1063 1063 1095 1102 1106 1110 1118 1126 1134 1150 1156 1160 1183 1203 1210 1217 1221 1224 1225 1227 1249 1263 1281 1297 1307 1312 1318 1318 1320 1326 1339 1380 1383 1384 1396 1396 1410 1426 1433 1440 1449 1467 1481 1481 1482 1493 1495 1497 1499 1525 1596\n"
     ]
    }
   ],
   "source": [
    "cheese = cyclospectrum('NRTDYDPCWFEAV')\n",
    "\n",
    "s = ' '.join(repr(item) for item in cheese)\n",
    "print(s)"
   ]
  },
  {
   "cell_type": "code",
   "execution_count": null,
   "id": "42e27eb5",
   "metadata": {},
   "outputs": [],
   "source": []
  }
 ],
 "metadata": {
  "kernelspec": {
   "display_name": "Python 3 (ipykernel)",
   "language": "python",
   "name": "python3"
  },
  "language_info": {
   "codemirror_mode": {
    "name": "ipython",
    "version": 3
   },
   "file_extension": ".py",
   "mimetype": "text/x-python",
   "name": "python",
   "nbconvert_exporter": "python",
   "pygments_lexer": "ipython3",
   "version": "3.11.5"
  }
 },
 "nbformat": 4,
 "nbformat_minor": 5
}
