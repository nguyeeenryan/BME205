{
 "cells": [
  {
   "cell_type": "markdown",
   "id": "4b06bedd",
   "metadata": {},
   "source": [
    "## Problem 23\n",
    "\n",
    "Works correctly according to the sample data given by rosalind but I can't seem to pass the actual tests."
   ]
  },
  {
   "cell_type": "code",
   "execution_count": 71,
   "id": "4811653d",
   "metadata": {},
   "outputs": [],
   "source": [
    "from collections import defaultdict\n",
    "import numpy as np\n",
    "import pandas as pd\n",
    "\n",
    "    \n",
    "def est_t_matrix(path, states):\n",
    "    # initialize matrix and final matrix\n",
    "    shape = (len(states), len(states))\n",
    "    t_matrix = pd.DataFrame(np.full(shape, 0), index=states, columns=states)\n",
    "    final_t_matrix = pd.DataFrame(np.full(shape, 0), index=states, columns=states)\n",
    "    \n",
    "    # add up transitions\n",
    "    for x in range(len(path)-1):\n",
    "        initial = path[x]\n",
    "        next = path[x+1]\n",
    "        t_matrix.loc[initial, next] += 1\n",
    "        \n",
    "    # normalize table into a final table\n",
    "    for row in states:\n",
    "        row_sum = t_matrix.loc[row].sum(axis=0)\n",
    "\n",
    "        for column in states:\n",
    "            if row_sum: # check if row_sum isn't 0\n",
    "                final_t_matrix.loc[row, column] = t_matrix.loc[row, column] / row_sum\n",
    "            else:\n",
    "                final_t_matrix.loc[row, column] = 1 / len(states)\n",
    "    \n",
    "    return final_t_matrix\n",
    "\n",
    "\n",
    "def est_emi_matrix(path, emi_path, states, emi_states):\n",
    "    shape = (len(states), len(emi_states))\n",
    "    emi_matrix = pd.DataFrame(np.full(shape, 0), index=states, columns=emi_states)\n",
    "    final_emi_matrix = pd.DataFrame(np.full(shape, 0), index=states, columns=emi_states)\n",
    "    \n",
    "    for state, emitted in zip(path, emi_path):\n",
    "        emi_matrix.loc[state, emitted] += 1\n",
    "    \n",
    "    for row in states:\n",
    "        row_sum = emi_matrix.loc[row].sum(axis=0)\n",
    "        \n",
    "        for column in emi_states:\n",
    "            if row_sum:\n",
    "                final_emi_matrix.loc[row, column] = emi_matrix.loc[row, column] / row_sum\n",
    "            else:\n",
    "                final_emi_matrix.loc[row,column] = 1 / len(states)\n",
    "    \n",
    "    return final_emi_matrix"
   ]
  },
  {
   "cell_type": "code",
   "execution_count": 116,
   "id": "c263c79c",
   "metadata": {},
   "outputs": [
    {
     "name": "stdout",
     "output_type": "stream",
     "text": [
      "          A         B      C\n",
      "A  0.281250  0.343750  0.375\n",
      "B  0.428571  0.371429  0.200\n",
      "C  0.281250  0.343750  0.375\n",
      "--------\n",
      "          x         y         z\n",
      "A  0.333333  0.242424  0.424242\n",
      "B  0.314286  0.371429  0.314286\n",
      "C  0.531250  0.281250  0.187500\n"
     ]
    }
   ],
   "source": [
    "with open(\"rosalind_ba10h.txt\") as f:\n",
    "    lines = [line.strip() for line in f]\n",
    "\n",
    "    \n",
    "observed_path = lines[0]\n",
    "emi_states = lines[2].split()\n",
    "path = lines[4]\n",
    "states = lines[6].split()\n",
    "\n",
    "print(est_t_matrix(path, states))\n",
    "print('--------')\n",
    "print(est_emi_matrix(path, observed_path, states, emi_states))"
   ]
  },
  {
   "cell_type": "markdown",
   "id": "d095556c",
   "metadata": {},
   "source": [
    "## Problem 24\n",
    "Pretty simple as it just reuses functions we've already created."
   ]
  },
  {
   "cell_type": "code",
   "execution_count": 118,
   "id": "a3b2180f",
   "metadata": {},
   "outputs": [],
   "source": [
    "import numpy as np\n",
    "import pandas as pd\n",
    "\n",
    "def viterbi_path(emi_path, states, t_matrix, emi_matrix):\n",
    "    #hold scores and states for backtracking\n",
    "    vit_table = pd.DataFrame(    np.full((len(states),len(emi_path)), 0)   , index=states)\n",
    "    back_track = pd.DataFrame(   np.full((len(states),len(emi_path)), 0)   , index=states)\n",
    "    \n",
    "    for state in states: #initialize start scores\n",
    "        vit_table.at[state,0] = (1/len(states)) * emi_matrix.loc[state, emi_path[0]]\n",
    "    \n",
    "    for time in range(1, len(emi_path)): #nested loop for calculating scores of every node\n",
    "        for state in states:\n",
    "            # prev_scores = [score_a/b/c_i-1 * weight]\n",
    "            prev_scores = [vit_table.loc[prev_state][time-1] * t_matrix.loc[prev_state, state] * emi_matrix.loc[state, emi_path[time]] for prev_state in states]\n",
    "            # fill in node with max of preceding scores\n",
    "            vit_table.at[state,time] = max(prev_scores)\n",
    "            # keep track of the previous node-state that gave the highest score\n",
    "            back_track.at[state,time] = max(states, key=lambda prev_state: vit_table.loc[prev_state,time-1] * t_matrix.loc[prev_state, state] * emi_matrix.loc[state, emi_path[time]])\n",
    "    \n",
    "    # Append to a list, backtracking from the start node, then reversing the list for the right order\n",
    "    \n",
    "    #Find the max value of the last column and return its corresponding state\n",
    "    vit_path = [max(states, key=lambda state: vit_table.loc[state, len(emi_path)-1])]\n",
    "    for time in range(len(emi_path)-1, 0, -1):\n",
    "        # uses the last list element to find the previous node from backtrack\n",
    "        vit_path.append(back_track.loc[vit_path[-1],time])\n",
    "\n",
    "    vit_path.reverse()\n",
    "    \n",
    "    return vit_path"
   ]
  },
  {
   "cell_type": "code",
   "execution_count": 119,
   "id": "43814447",
   "metadata": {},
   "outputs": [],
   "source": [
    "def viterbi_learning(emi_path, t_matrix, emi_matrix, states, emi_states, iterations=100):\n",
    "    # Hold matrices for repeated iteration\n",
    "    t_matrix_iter = t_matrix\n",
    "    emi_matrix_iter = emi_matrix\n",
    "    \n",
    "    for x in range(iterations):\n",
    "        # Calculate path\n",
    "        path = viterbi_path(emi_path, states, t_matrix_iter, emi_matrix_iter)\n",
    "        \n",
    "        # Feed path into estimation algorithms\n",
    "        t_matrix_iter = est_t_matrix(path, states)\n",
    "        emi_matrix_iter = est_emi_matrix(path, emi_path, states, emi_states)\n",
    "        # repeat\n",
    "    \n",
    "    return t_matrix_iter, emi_matrix_iter\n",
    "\n"
   ]
  },
  {
   "cell_type": "code",
   "execution_count": 120,
   "id": "a6220d44",
   "metadata": {},
   "outputs": [
    {
     "name": "stdout",
     "output_type": "stream",
     "text": [
      "          A         B         C\n",
      "A  0.047619  0.952381  0.000000\n",
      "B  0.684211  0.315789  0.000000\n",
      "C  0.333333  0.333333  0.333333\n",
      "          x         y         z\n",
      "A  0.000000  0.642857  0.357143\n",
      "B  0.586207  0.000000  0.413793\n",
      "C  0.333333  0.333333  0.333333\n"
     ]
    }
   ],
   "source": [
    "with open(\"rosalind_ba10i2.txt\") as f:\n",
    "    lines = [line.strip() for line in f]\n",
    "\n",
    "iterations = int(lines[0])    \n",
    "observed_path = lines[2]\n",
    "emi_states = lines[4].split()\n",
    "states = lines[6].split()\n",
    "\n",
    "t_matrix = []\n",
    "emi_matrix = []\n",
    "for x in range(9, 9+len(states)):\n",
    "    t_matrix.append(lines[x].strip().split()[1:])\n",
    "\n",
    "for x in range(9+len(states)+2, 9+len(states)+2+len(states)):\n",
    "    emi_matrix.append(lines[x].strip().split()[1:])\n",
    "\n",
    "t_matrix22 = pd.DataFrame(t_matrix, index=states, columns=states).astype(float)\n",
    "emi_matrix22 = pd.DataFrame(emi_matrix, index=states, columns=emi_states).astype(float)\n",
    "\n",
    "for x in viterbi_learning(observed_path, t_matrix22, emi_matrix22, states, emi_states, iterations):\n",
    "    print(x)"
   ]
  },
  {
   "cell_type": "code",
   "execution_count": null,
   "id": "b4844feb",
   "metadata": {},
   "outputs": [],
   "source": []
  }
 ],
 "metadata": {
  "kernelspec": {
   "display_name": "Python 3 (ipykernel)",
   "language": "python",
   "name": "python3"
  },
  "language_info": {
   "codemirror_mode": {
    "name": "ipython",
    "version": 3
   },
   "file_extension": ".py",
   "mimetype": "text/x-python",
   "name": "python",
   "nbconvert_exporter": "python",
   "pygments_lexer": "ipython3",
   "version": "3.11.5"
  }
 },
 "nbformat": 4,
 "nbformat_minor": 5
}
